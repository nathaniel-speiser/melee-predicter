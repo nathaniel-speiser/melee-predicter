{
 "cells": [
  {
   "cell_type": "code",
   "execution_count": 1,
   "id": "collective-measurement",
   "metadata": {},
   "outputs": [],
   "source": [
    "%load_ext autoreload\n",
    "%autoreload 2"
   ]
  },
  {
   "cell_type": "code",
   "execution_count": 2,
   "id": "buried-amendment",
   "metadata": {},
   "outputs": [],
   "source": [
    "import slippi\n",
    "from slippi import Game\n",
    "import pickle\n",
    "import pandas as pd\n",
    "import glob\n",
    "import numpy as np\n",
    "from tqdm import tqdm \n",
    "from sklearn.preprocessing import OneHotEncoder\n",
    "from sklearn.compose import ColumnTransformer\n",
    "\n",
    "from data_utils import construct_df, ohe_chars_stage\n",
    "from data_utils import *\n",
    "pd.set_option('display.max_columns', None)"
   ]
  },
  {
   "cell_type": "code",
   "execution_count": 3,
   "id": "daily-grace",
   "metadata": {},
   "outputs": [],
   "source": [
    "path = 'replays/Fight-Pitt-9/'\n",
    "fp9_files = glob.glob(path + '/**/*.slp', recursive=True)\n",
    "\n",
    "path = 'replays/Gang-Steals/'\n",
    "gs_files = glob.glob(path + '/**/*.slp', recursive=True)"
   ]
  },
  {
   "cell_type": "code",
   "execution_count": 4,
   "id": "capable-motion",
   "metadata": {},
   "outputs": [],
   "source": [
    "path = 'replays/Pound-2019/'\n",
    "p2019_files = glob.glob(path + '/**/*.slp', recursive=True)"
   ]
  },
  {
   "cell_type": "code",
   "execution_count": 3,
   "id": "intended-sculpture",
   "metadata": {},
   "outputs": [],
   "source": [
    "path = 'replays/Full-Bloom-5/'\n",
    "fb5_files = glob.glob(path + '/**/*.slp', recursive=True)"
   ]
  },
  {
   "cell_type": "code",
   "execution_count": 4,
   "id": "turkish-hampshire",
   "metadata": {},
   "outputs": [],
   "source": [
    "path = 'replays/NMA2/'\n",
    "nma2_files = glob.glob(path + '/**/*.slp', recursive=True)"
   ]
  },
  {
   "cell_type": "code",
   "execution_count": 5,
   "id": "hungarian-warren",
   "metadata": {},
   "outputs": [
    {
     "data": {
      "text/plain": [
       "4502"
      ]
     },
     "execution_count": 5,
     "metadata": {},
     "output_type": "execute_result"
    }
   ],
   "source": [
    "len(fb5_files)"
   ]
  },
  {
   "cell_type": "code",
   "execution_count": 6,
   "id": "experienced-gender",
   "metadata": {},
   "outputs": [
    {
     "data": {
      "text/plain": [
       "2817"
      ]
     },
     "execution_count": 6,
     "metadata": {},
     "output_type": "execute_result"
    }
   ],
   "source": [
    "len(nma2_files)"
   ]
  },
  {
   "cell_type": "code",
   "execution_count": 7,
   "id": "laughing-globe",
   "metadata": {
    "scrolled": true
   },
   "outputs": [],
   "source": [
    "test_game = Game('replays/mangozain.slp')"
   ]
  },
  {
   "cell_type": "code",
   "execution_count": 8,
   "id": "polish-influence",
   "metadata": {},
   "outputs": [],
   "source": [
    "test_game2 = Game(fp9_files[10])\n",
    "test_game3 = Game(gs_files[2])"
   ]
  },
  {
   "cell_type": "code",
   "execution_count": null,
   "id": "happy-inquiry",
   "metadata": {
    "scrolled": true
   },
   "outputs": [],
   "source": [
    "fp9_5s = construct_df(fp9_files,5)"
   ]
  },
  {
   "cell_type": "code",
   "execution_count": null,
   "id": "southern-butter",
   "metadata": {},
   "outputs": [],
   "source": [
    "gs_5s = construct_df(gs_files, 5)"
   ]
  },
  {
   "cell_type": "code",
   "execution_count": null,
   "id": "threatened-webmaster",
   "metadata": {},
   "outputs": [],
   "source": [
    "p2019_5s = construct_df(p2019_files, 5)"
   ]
  },
  {
   "cell_type": "code",
   "execution_count": null,
   "id": "advanced-journal",
   "metadata": {},
   "outputs": [],
   "source": [
    "p2019_5s_ohe = ohe_chars_stage(p2019_5s)\n",
    "p2019_5s_ohe.to_pickle('saved_data/p2019_5s_ohe.pkl')"
   ]
  },
  {
   "cell_type": "code",
   "execution_count": null,
   "id": "distinguished-exhaust",
   "metadata": {},
   "outputs": [],
   "source": [
    "fp9_5s_ohe = ohe_chars_stage(fp9_5s)\n",
    "fp9_5s_ohe.to_pickle('saved_data/fp9_5s_ohe.pkl')\n",
    "\n",
    "gs_5s_ohe = ohe_chars_stage(gs_5s)\n",
    "gs_5s_ohe.to_pickle('saved_data/gs_5s_ohe.pkl')"
   ]
  },
  {
   "cell_type": "code",
   "execution_count": null,
   "id": "elect-earthquake",
   "metadata": {},
   "outputs": [],
   "source": []
  },
  {
   "cell_type": "code",
   "execution_count": null,
   "id": "breeding-destiny",
   "metadata": {},
   "outputs": [],
   "source": []
  },
  {
   "cell_type": "code",
   "execution_count": null,
   "id": "determined-appearance",
   "metadata": {},
   "outputs": [],
   "source": [
    "test_game = Game('replays/mangozain.slp')"
   ]
  },
  {
   "cell_type": "code",
   "execution_count": null,
   "id": "manual-probability",
   "metadata": {
    "code_folding": []
   },
   "outputs": [],
   "source": []
  },
  {
   "cell_type": "code",
   "execution_count": 9,
   "id": "crucial-penguin",
   "metadata": {
    "scrolled": false
   },
   "outputs": [
    {
     "name": "stderr",
     "output_type": "stream",
     "text": [
      "Games parsed: 100%|██████████| 1150/1150 [14:56<00:00,  1.28it/s]\n"
     ]
    }
   ],
   "source": [
    "fp9_5s_igs = construct_df_igs(fp9_files,5)"
   ]
  },
  {
   "cell_type": "code",
   "execution_count": 11,
   "id": "present-copying",
   "metadata": {},
   "outputs": [],
   "source": [
    "fp9_5s_igs.to_pickle('saved_data/fp9_5s_igs.pkl')"
   ]
  },
  {
   "cell_type": "code",
   "execution_count": 12,
   "id": "virtual-nurse",
   "metadata": {},
   "outputs": [
    {
     "name": "stderr",
     "output_type": "stream",
     "text": [
      "Games parsed: 100%|██████████| 3561/3561 [46:24<00:00,  1.28it/s] \n"
     ]
    }
   ],
   "source": [
    "gs_5s_igs = construct_df_igs(gs_files,5)"
   ]
  },
  {
   "cell_type": "code",
   "execution_count": 13,
   "id": "greatest-formula",
   "metadata": {},
   "outputs": [],
   "source": [
    "gs_5s_igs.to_pickle('saved_data/gs_5s_igs.pkl')"
   ]
  },
  {
   "cell_type": "code",
   "execution_count": 5,
   "id": "intelligent-lloyd",
   "metadata": {},
   "outputs": [
    {
     "name": "stderr",
     "output_type": "stream",
     "text": [
      "Games parsed: 100%|██████████| 11019/11019 [2:42:10<00:00,  1.13it/s] \n"
     ]
    }
   ],
   "source": [
    "p2019_5s_igs = construct_df_igs(p2019_files,5)"
   ]
  },
  {
   "cell_type": "code",
   "execution_count": 6,
   "id": "herbal-guess",
   "metadata": {},
   "outputs": [],
   "source": [
    "p2019_5s_igs.to_pickle('saved_data/p2019_5s_igs.pkl')"
   ]
  },
  {
   "cell_type": "code",
   "execution_count": 7,
   "id": "gothic-chicago",
   "metadata": {},
   "outputs": [
    {
     "name": "stderr",
     "output_type": "stream",
     "text": [
      "Games parsed: 100%|██████████| 4502/4502 [1:03:44<00:00,  1.18it/s]\n"
     ]
    }
   ],
   "source": [
    "fb5_5s_igs = construct_df_igs(fb5_files,5)"
   ]
  },
  {
   "cell_type": "code",
   "execution_count": 8,
   "id": "searching-better",
   "metadata": {},
   "outputs": [],
   "source": [
    "fb5_5s_igs.to_pickle('saved_data/fb5_5s_igs.pkl')"
   ]
  },
  {
   "cell_type": "code",
   "execution_count": 9,
   "id": "possible-event",
   "metadata": {},
   "outputs": [
    {
     "name": "stderr",
     "output_type": "stream",
     "text": [
      "Games parsed: 100%|██████████| 2817/2817 [34:29<00:00,  1.36it/s]\n"
     ]
    },
    {
     "ename": "NameError",
     "evalue": "name 'nma_5s_igs' is not defined",
     "output_type": "error",
     "traceback": [
      "\u001b[0;31m---------------------------------------------------------------------------\u001b[0m",
      "\u001b[0;31mNameError\u001b[0m                                 Traceback (most recent call last)",
      "\u001b[0;32m<ipython-input-9-1367b41f8a97>\u001b[0m in \u001b[0;36m<module>\u001b[0;34m\u001b[0m\n\u001b[1;32m      1\u001b[0m \u001b[0mnma2_5s_igs\u001b[0m \u001b[0;34m=\u001b[0m \u001b[0mconstruct_df_igs\u001b[0m\u001b[0;34m(\u001b[0m\u001b[0mnma2_files\u001b[0m\u001b[0;34m,\u001b[0m\u001b[0;36m5\u001b[0m\u001b[0;34m)\u001b[0m\u001b[0;34m\u001b[0m\u001b[0;34m\u001b[0m\u001b[0m\n\u001b[0;32m----> 2\u001b[0;31m \u001b[0mnma_5s_igs\u001b[0m\u001b[0;34m.\u001b[0m\u001b[0mto_pickle\u001b[0m\u001b[0;34m(\u001b[0m\u001b[0;34m'saved_data/nma_5s_igs.pkl'\u001b[0m\u001b[0;34m)\u001b[0m\u001b[0;34m\u001b[0m\u001b[0;34m\u001b[0m\u001b[0m\n\u001b[0m",
      "\u001b[0;31mNameError\u001b[0m: name 'nma_5s_igs' is not defined"
     ]
    }
   ],
   "source": [
    "nma2_5s_igs = construct_df_igs(nma2_files,5)\n",
    "nma_5s_igs.to_pickle('saved_data/nma_5s_igs.pkl')"
   ]
  },
  {
   "cell_type": "code",
   "execution_count": 11,
   "id": "charitable-inside",
   "metadata": {},
   "outputs": [],
   "source": [
    "nma2_5s_igs.to_pickle('saved_data/nma2_5s_igs.pkl')"
   ]
  },
  {
   "cell_type": "code",
   "execution_count": null,
   "id": "artistic-nirvana",
   "metadata": {},
   "outputs": [],
   "source": []
  }
 ],
 "metadata": {
  "kernelspec": {
   "display_name": "Python [conda env:metis] *",
   "language": "python",
   "name": "conda-env-metis-py"
  },
  "language_info": {
   "codemirror_mode": {
    "name": "ipython",
    "version": 3
   },
   "file_extension": ".py",
   "mimetype": "text/x-python",
   "name": "python",
   "nbconvert_exporter": "python",
   "pygments_lexer": "ipython3",
   "version": "3.8.6"
  },
  "toc": {
   "base_numbering": 1,
   "nav_menu": {},
   "number_sections": true,
   "sideBar": true,
   "skip_h1_title": false,
   "title_cell": "Table of Contents",
   "title_sidebar": "Contents",
   "toc_cell": false,
   "toc_position": {},
   "toc_section_display": true,
   "toc_window_display": false
  },
  "varInspector": {
   "cols": {
    "lenName": 16,
    "lenType": 16,
    "lenVar": 40
   },
   "kernels_config": {
    "python": {
     "delete_cmd_postfix": "",
     "delete_cmd_prefix": "del ",
     "library": "var_list.py",
     "varRefreshCmd": "print(var_dic_list())"
    },
    "r": {
     "delete_cmd_postfix": ") ",
     "delete_cmd_prefix": "rm(",
     "library": "var_list.r",
     "varRefreshCmd": "cat(var_dic_list()) "
    }
   },
   "position": {
    "height": "923px",
    "left": "1166px",
    "right": "20px",
    "top": "121px",
    "width": "800px"
   },
   "types_to_exclude": [
    "module",
    "function",
    "builtin_function_or_method",
    "instance",
    "_Feature"
   ],
   "window_display": false
  }
 },
 "nbformat": 4,
 "nbformat_minor": 5
}
