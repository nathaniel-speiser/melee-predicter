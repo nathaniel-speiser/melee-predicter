{
  "nbformat": 4,
  "nbformat_minor": 0,
  "metadata": {
    "colab": {
      "name": "Colab_NN",
      "provenance": [],
      "collapsed_sections": []
    },
    "kernelspec": {
      "name": "python3",
      "display_name": "Python 3"
    },
    "accelerator": "GPU"
  },
  "cells": [
    {
      "cell_type": "code",
      "metadata": {
        "colab": {
          "base_uri": "https://localhost:8080/"
        },
        "id": "vaXvAD8455o_",
        "outputId": "12476598-0562-474b-a160-75e0c6845731"
      },
      "source": [
        "from google.colab import drive\n",
        "drive.mount('/content/drive')"
      ],
      "execution_count": 1,
      "outputs": [
        {
          "output_type": "stream",
          "text": [
            "Mounted at /content/drive\n"
          ],
          "name": "stdout"
        }
      ]
    },
    {
      "cell_type": "code",
      "metadata": {
        "id": "BN8UiK-b6B94"
      },
      "source": [
        "import pandas as pd\n",
        "import numpy as np\n",
        "\n",
        "import tensorflow as tf\n",
        "from tensorflow import keras\n",
        "from tensorflow.keras import layers\n",
        "\n",
        "from tensorflow.keras.datasets import mnist, boston_housing\n",
        "\n",
        "from sklearn.preprocessing import StandardScaler\n",
        "from sklearn.model_selection import train_test_split\n",
        "\n",
        "import matplotlib.pyplot as plt\n",
        "from sklearn.metrics import log_loss, accuracy_score, roc_auc_score"
      ],
      "execution_count": 13,
      "outputs": []
    },
    {
      "cell_type": "code",
      "metadata": {
        "colab": {
          "base_uri": "https://localhost:8080/"
        },
        "id": "x1Ddb2997M7c",
        "outputId": "5be2224c-216d-49f6-c8f1-984e49eec065"
      },
      "source": [
        "!pip3 install pickle5\n",
        "import pickle5 as pickle"
      ],
      "execution_count": 3,
      "outputs": [
        {
          "output_type": "stream",
          "text": [
            "Collecting pickle5\n",
            "\u001b[?25l  Downloading https://files.pythonhosted.org/packages/f7/4c/5c4dd0462c8d3a6bc4af500a6af240763c2ebd1efdc736fc2c946d44b70a/pickle5-0.0.11.tar.gz (132kB)\n",
            "\r\u001b[K     |██▌                             | 10kB 18.5MB/s eta 0:00:01\r\u001b[K     |█████                           | 20kB 24.7MB/s eta 0:00:01\r\u001b[K     |███████▍                        | 30kB 28.5MB/s eta 0:00:01\r\u001b[K     |██████████                      | 40kB 20.8MB/s eta 0:00:01\r\u001b[K     |████████████▍                   | 51kB 16.4MB/s eta 0:00:01\r\u001b[K     |██████████████▉                 | 61kB 14.3MB/s eta 0:00:01\r\u001b[K     |█████████████████▍              | 71kB 15.8MB/s eta 0:00:01\r\u001b[K     |███████████████████▉            | 81kB 14.1MB/s eta 0:00:01\r\u001b[K     |██████████████████████▎         | 92kB 14.7MB/s eta 0:00:01\r\u001b[K     |████████████████████████▉       | 102kB 15.8MB/s eta 0:00:01\r\u001b[K     |███████████████████████████▎    | 112kB 15.8MB/s eta 0:00:01\r\u001b[K     |█████████████████████████████▊  | 122kB 15.8MB/s eta 0:00:01\r\u001b[K     |████████████████████████████████| 133kB 15.8MB/s \n",
            "\u001b[?25hBuilding wheels for collected packages: pickle5\n",
            "  Building wheel for pickle5 (setup.py) ... \u001b[?25l\u001b[?25hdone\n",
            "  Created wheel for pickle5: filename=pickle5-0.0.11-cp37-cp37m-linux_x86_64.whl size=219242 sha256=a85ad773408bc31ba9c8127e6e51fd04962937f3ef2f697f4c6e5aae01c65264\n",
            "  Stored in directory: /root/.cache/pip/wheels/a6/90/95/f889ca4aa8b0e0c7f21c8470b6f5d6032f0390a3a141a9a3bd\n",
            "Successfully built pickle5\n",
            "Installing collected packages: pickle5\n",
            "Successfully installed pickle5-0.0.11\n"
          ],
          "name": "stdout"
        }
      ]
    },
    {
      "cell_type": "code",
      "metadata": {
        "id": "oMtpsGmJ6TNI"
      },
      "source": [
        "with open('/content/drive/MyDrive/Projects/Melee predicter/final_processed_data.pkl', \"rb\") as fh:\n",
        "  df = pickle.load(fh)"
      ],
      "execution_count": 4,
      "outputs": []
    },
    {
      "cell_type": "code",
      "metadata": {
        "id": "eV48VIn47W8N"
      },
      "source": [
        "features = list(df.columns[4:])\n",
        "features.remove('winner')\n"
      ],
      "execution_count": 5,
      "outputs": []
    },
    {
      "cell_type": "code",
      "metadata": {
        "id": "sEcdXOWX8186"
      },
      "source": [
        "df_train, df_test = train_test_split(df, test_size=0.2)\n",
        "X_train = df_train[features]\n",
        "y_train = df_train['winner']\n",
        "\n",
        "X_test = df_test[features]\n",
        "y_test = df_test['winner']"
      ],
      "execution_count": 6,
      "outputs": []
    },
    {
      "cell_type": "code",
      "metadata": {
        "id": "n3Jo5ALB-Xye"
      },
      "source": [
        "ss = StandardScaler()\n",
        "X_train_scaled=ss.fit_transform(X_train)"
      ],
      "execution_count": 7,
      "outputs": []
    },
    {
      "cell_type": "code",
      "metadata": {
        "colab": {
          "base_uri": "https://localhost:8080/"
        },
        "id": "izNbTum47j3d",
        "outputId": "41ed2bf6-5b7a-4633-9338-fb23b45ce194"
      },
      "source": [
        "model = keras.Sequential()\n",
        "model.add(layers.InputLayer(input_shape=(86,)))\n",
        "model.add(layers.Dense(300, activation='relu'))\n",
        "model.add(layers.Dense(300, activation='relu'))\n",
        "model.add(layers.Dense(100, activation='sigmoid'))\n",
        "# Output layer: size 1 dense layer\n",
        "model.add(layers.Dense(1, activation = 'sigmoid'))\n",
        "\n",
        "model.summary()"
      ],
      "execution_count": 8,
      "outputs": [
        {
          "output_type": "stream",
          "text": [
            "Model: \"sequential\"\n",
            "_________________________________________________________________\n",
            "Layer (type)                 Output Shape              Param #   \n",
            "=================================================================\n",
            "dense (Dense)                (None, 300)               26100     \n",
            "_________________________________________________________________\n",
            "dense_1 (Dense)              (None, 300)               90300     \n",
            "_________________________________________________________________\n",
            "dense_2 (Dense)              (None, 100)               30100     \n",
            "_________________________________________________________________\n",
            "dense_3 (Dense)              (None, 1)                 101       \n",
            "=================================================================\n",
            "Total params: 146,601\n",
            "Trainable params: 146,601\n",
            "Non-trainable params: 0\n",
            "_________________________________________________________________\n"
          ],
          "name": "stdout"
        }
      ]
    },
    {
      "cell_type": "code",
      "metadata": {
        "id": "t-K5J_UV9KZN"
      },
      "source": [
        "model.compile(loss='binary_crossentropy', metrics=['accuracy','AUC'])"
      ],
      "execution_count": 9,
      "outputs": []
    },
    {
      "cell_type": "code",
      "metadata": {
        "colab": {
          "base_uri": "https://localhost:8080/"
        },
        "id": "SGzn2El79l3Q",
        "outputId": "2375f4b5-617a-4098-fb21-2ca71bbb09cc"
      },
      "source": [
        "history = model.fit(X_train_scaled, y_train.to_numpy(), epochs=50,validation_split=.2, batch_size=2048)"
      ],
      "execution_count": 10,
      "outputs": [
        {
          "output_type": "stream",
          "text": [
            "Epoch 1/50\n",
            "193/193 [==============================] - 4s 9ms/step - loss: 0.5703 - accuracy: 0.6918 - auc: 0.7651 - val_loss: 0.4901 - val_accuracy: 0.7504 - val_auc: 0.8403\n",
            "Epoch 2/50\n",
            "193/193 [==============================] - 1s 6ms/step - loss: 0.4873 - accuracy: 0.7520 - auc: 0.8414 - val_loss: 0.4637 - val_accuracy: 0.7651 - val_auc: 0.8588\n",
            "Epoch 3/50\n",
            "193/193 [==============================] - 1s 6ms/step - loss: 0.4558 - accuracy: 0.7702 - auc: 0.8627 - val_loss: 0.4363 - val_accuracy: 0.7830 - val_auc: 0.8757\n",
            "Epoch 4/50\n",
            "193/193 [==============================] - 1s 6ms/step - loss: 0.4355 - accuracy: 0.7820 - auc: 0.8754 - val_loss: 0.4281 - val_accuracy: 0.7860 - val_auc: 0.8871\n",
            "Epoch 5/50\n",
            "193/193 [==============================] - 1s 6ms/step - loss: 0.4146 - accuracy: 0.7935 - auc: 0.8880 - val_loss: 0.4000 - val_accuracy: 0.8021 - val_auc: 0.8970\n",
            "Epoch 6/50\n",
            "193/193 [==============================] - 1s 6ms/step - loss: 0.3953 - accuracy: 0.8056 - auc: 0.8991 - val_loss: 0.3952 - val_accuracy: 0.8073 - val_auc: 0.9068\n",
            "Epoch 7/50\n",
            "193/193 [==============================] - 1s 6ms/step - loss: 0.3767 - accuracy: 0.8162 - auc: 0.9090 - val_loss: 0.3618 - val_accuracy: 0.8234 - val_auc: 0.9184\n",
            "Epoch 8/50\n",
            "193/193 [==============================] - 1s 6ms/step - loss: 0.3567 - accuracy: 0.8263 - auc: 0.9187 - val_loss: 0.3539 - val_accuracy: 0.8274 - val_auc: 0.9240\n",
            "Epoch 9/50\n",
            "193/193 [==============================] - 1s 6ms/step - loss: 0.3458 - accuracy: 0.8316 - auc: 0.9235 - val_loss: 0.4427 - val_accuracy: 0.7768 - val_auc: 0.9213\n",
            "Epoch 10/50\n",
            "193/193 [==============================] - 1s 6ms/step - loss: 0.3336 - accuracy: 0.8390 - auc: 0.9295 - val_loss: 0.3184 - val_accuracy: 0.8475 - val_auc: 0.9375\n",
            "Epoch 11/50\n",
            "193/193 [==============================] - 1s 6ms/step - loss: 0.3183 - accuracy: 0.8459 - auc: 0.9357 - val_loss: 0.3027 - val_accuracy: 0.8560 - val_auc: 0.9430\n",
            "Epoch 12/50\n",
            "193/193 [==============================] - 1s 6ms/step - loss: 0.3040 - accuracy: 0.8532 - auc: 0.9415 - val_loss: 0.3216 - val_accuracy: 0.8437 - val_auc: 0.9382\n",
            "Epoch 13/50\n",
            "193/193 [==============================] - 1s 6ms/step - loss: 0.2956 - accuracy: 0.8577 - auc: 0.9447 - val_loss: 0.2822 - val_accuracy: 0.8662 - val_auc: 0.9501\n",
            "Epoch 14/50\n",
            "193/193 [==============================] - 1s 6ms/step - loss: 0.2840 - accuracy: 0.8635 - auc: 0.9491 - val_loss: 0.3066 - val_accuracy: 0.8515 - val_auc: 0.9466\n",
            "Epoch 15/50\n",
            "193/193 [==============================] - 1s 6ms/step - loss: 0.2742 - accuracy: 0.8682 - auc: 0.9526 - val_loss: 0.2906 - val_accuracy: 0.8579 - val_auc: 0.9527\n",
            "Epoch 16/50\n",
            "193/193 [==============================] - 1s 6ms/step - loss: 0.2669 - accuracy: 0.8710 - auc: 0.9549 - val_loss: 0.2633 - val_accuracy: 0.8735 - val_auc: 0.9567\n",
            "Epoch 17/50\n",
            "193/193 [==============================] - 1s 6ms/step - loss: 0.2572 - accuracy: 0.8769 - auc: 0.9583 - val_loss: 0.2837 - val_accuracy: 0.8614 - val_auc: 0.9576\n",
            "Epoch 18/50\n",
            "193/193 [==============================] - 1s 6ms/step - loss: 0.2467 - accuracy: 0.8825 - auc: 0.9618 - val_loss: 0.2824 - val_accuracy: 0.8627 - val_auc: 0.9587\n",
            "Epoch 19/50\n",
            "193/193 [==============================] - 1s 6ms/step - loss: 0.2439 - accuracy: 0.8835 - auc: 0.9625 - val_loss: 0.2343 - val_accuracy: 0.8877 - val_auc: 0.9656\n",
            "Epoch 20/50\n",
            "193/193 [==============================] - 1s 6ms/step - loss: 0.2342 - accuracy: 0.8875 - auc: 0.9654 - val_loss: 0.2897 - val_accuracy: 0.8583 - val_auc: 0.9592\n",
            "Epoch 21/50\n",
            "193/193 [==============================] - 1s 6ms/step - loss: 0.2298 - accuracy: 0.8881 - auc: 0.9665 - val_loss: 0.3115 - val_accuracy: 0.8474 - val_auc: 0.9610\n",
            "Epoch 22/50\n",
            "193/193 [==============================] - 1s 6ms/step - loss: 0.2235 - accuracy: 0.8928 - auc: 0.9686 - val_loss: 0.2213 - val_accuracy: 0.8937 - val_auc: 0.9692\n",
            "Epoch 23/50\n",
            "193/193 [==============================] - 1s 6ms/step - loss: 0.2173 - accuracy: 0.8961 - auc: 0.9702 - val_loss: 0.3381 - val_accuracy: 0.8388 - val_auc: 0.9623\n",
            "Epoch 24/50\n",
            "193/193 [==============================] - 1s 6ms/step - loss: 0.2183 - accuracy: 0.8953 - auc: 0.9700 - val_loss: 0.2731 - val_accuracy: 0.8715 - val_auc: 0.9599\n",
            "Epoch 25/50\n",
            "193/193 [==============================] - 1s 6ms/step - loss: 0.2014 - accuracy: 0.9045 - auc: 0.9747 - val_loss: 0.2105 - val_accuracy: 0.8983 - val_auc: 0.9729\n",
            "Epoch 26/50\n",
            "193/193 [==============================] - 1s 6ms/step - loss: 0.1957 - accuracy: 0.9057 - auc: 0.9759 - val_loss: 0.2138 - val_accuracy: 0.8957 - val_auc: 0.9728\n",
            "Epoch 27/50\n",
            "193/193 [==============================] - 1s 6ms/step - loss: 0.2007 - accuracy: 0.9043 - auc: 0.9746 - val_loss: 0.2029 - val_accuracy: 0.9028 - val_auc: 0.9740\n",
            "Epoch 28/50\n",
            "193/193 [==============================] - 1s 6ms/step - loss: 0.1932 - accuracy: 0.9076 - auc: 0.9764 - val_loss: 0.1975 - val_accuracy: 0.9040 - val_auc: 0.9753\n",
            "Epoch 29/50\n",
            "193/193 [==============================] - 1s 6ms/step - loss: 0.1898 - accuracy: 0.9084 - auc: 0.9772 - val_loss: 0.2056 - val_accuracy: 0.9008 - val_auc: 0.9750\n",
            "Epoch 30/50\n",
            "193/193 [==============================] - 1s 6ms/step - loss: 0.1863 - accuracy: 0.9103 - auc: 0.9781 - val_loss: 0.2172 - val_accuracy: 0.8955 - val_auc: 0.9741\n",
            "Epoch 31/50\n",
            "193/193 [==============================] - 1s 6ms/step - loss: 0.1817 - accuracy: 0.9142 - auc: 0.9792 - val_loss: 0.1936 - val_accuracy: 0.9066 - val_auc: 0.9762\n",
            "Epoch 32/50\n",
            "193/193 [==============================] - 1s 6ms/step - loss: 0.1756 - accuracy: 0.9162 - auc: 0.9805 - val_loss: 0.1889 - val_accuracy: 0.9084 - val_auc: 0.9776\n",
            "Epoch 33/50\n",
            "193/193 [==============================] - 1s 6ms/step - loss: 0.1763 - accuracy: 0.9157 - auc: 0.9803 - val_loss: 0.2106 - val_accuracy: 0.8990 - val_auc: 0.9739\n",
            "Epoch 34/50\n",
            "193/193 [==============================] - 1s 6ms/step - loss: 0.1672 - accuracy: 0.9201 - auc: 0.9824 - val_loss: 0.2386 - val_accuracy: 0.8854 - val_auc: 0.9739\n",
            "Epoch 35/50\n",
            "193/193 [==============================] - 1s 6ms/step - loss: 0.1680 - accuracy: 0.9191 - auc: 0.9821 - val_loss: 0.1839 - val_accuracy: 0.9099 - val_auc: 0.9799\n",
            "Epoch 36/50\n",
            "193/193 [==============================] - 1s 6ms/step - loss: 0.1622 - accuracy: 0.9217 - auc: 0.9833 - val_loss: 0.1921 - val_accuracy: 0.9061 - val_auc: 0.9783\n",
            "Epoch 37/50\n",
            "193/193 [==============================] - 1s 6ms/step - loss: 0.1633 - accuracy: 0.9214 - auc: 0.9831 - val_loss: 0.2197 - val_accuracy: 0.8955 - val_auc: 0.9762\n",
            "Epoch 38/50\n",
            "193/193 [==============================] - 1s 6ms/step - loss: 0.1664 - accuracy: 0.9201 - auc: 0.9824 - val_loss: 0.1733 - val_accuracy: 0.9160 - val_auc: 0.9808\n",
            "Epoch 39/50\n",
            "193/193 [==============================] - 1s 6ms/step - loss: 0.1580 - accuracy: 0.9241 - auc: 0.9841 - val_loss: 0.2622 - val_accuracy: 0.8829 - val_auc: 0.9701\n",
            "Epoch 40/50\n",
            "193/193 [==============================] - 1s 6ms/step - loss: 0.1545 - accuracy: 0.9267 - auc: 0.9850 - val_loss: 0.1699 - val_accuracy: 0.9171 - val_auc: 0.9816\n",
            "Epoch 41/50\n",
            "193/193 [==============================] - 1s 6ms/step - loss: 0.1534 - accuracy: 0.9266 - auc: 0.9850 - val_loss: 0.1703 - val_accuracy: 0.9182 - val_auc: 0.9817\n",
            "Epoch 42/50\n",
            "193/193 [==============================] - 1s 6ms/step - loss: 0.1489 - accuracy: 0.9285 - auc: 0.9859 - val_loss: 0.1685 - val_accuracy: 0.9182 - val_auc: 0.9820\n",
            "Epoch 43/50\n",
            "193/193 [==============================] - 1s 6ms/step - loss: 0.1461 - accuracy: 0.9293 - auc: 0.9864 - val_loss: 0.1703 - val_accuracy: 0.9168 - val_auc: 0.9815\n",
            "Epoch 44/50\n",
            "193/193 [==============================] - 1s 6ms/step - loss: 0.1483 - accuracy: 0.9287 - auc: 0.9860 - val_loss: 0.1714 - val_accuracy: 0.9181 - val_auc: 0.9819\n",
            "Epoch 45/50\n",
            "193/193 [==============================] - 1s 6ms/step - loss: 0.1478 - accuracy: 0.9306 - auc: 0.9862 - val_loss: 0.1713 - val_accuracy: 0.9173 - val_auc: 0.9819\n",
            "Epoch 46/50\n",
            "193/193 [==============================] - 1s 6ms/step - loss: 0.1468 - accuracy: 0.9305 - auc: 0.9863 - val_loss: 0.1666 - val_accuracy: 0.9191 - val_auc: 0.9825\n",
            "Epoch 47/50\n",
            "193/193 [==============================] - 1s 6ms/step - loss: 0.1405 - accuracy: 0.9319 - auc: 0.9874 - val_loss: 0.1711 - val_accuracy: 0.9187 - val_auc: 0.9817\n",
            "Epoch 48/50\n",
            "193/193 [==============================] - 1s 6ms/step - loss: 0.1398 - accuracy: 0.9332 - auc: 0.9875 - val_loss: 0.1842 - val_accuracy: 0.9127 - val_auc: 0.9816\n",
            "Epoch 49/50\n",
            "193/193 [==============================] - 1s 6ms/step - loss: 0.1407 - accuracy: 0.9315 - auc: 0.9873 - val_loss: 0.2539 - val_accuracy: 0.8887 - val_auc: 0.9732\n",
            "Epoch 50/50\n",
            "193/193 [==============================] - 1s 6ms/step - loss: 0.1363 - accuracy: 0.9348 - auc: 0.9882 - val_loss: 0.1645 - val_accuracy: 0.9218 - val_auc: 0.9830\n"
          ],
          "name": "stdout"
        }
      ]
    },
    {
      "cell_type": "markdown",
      "metadata": {
        "id": "61BZPNUazmKf"
      },
      "source": [
        "Pretty incredible that a network architecture I basically just played around with randomly for like half an hour can perform as well/better than all the other models I tested"
      ]
    },
    {
      "cell_type": "code",
      "metadata": {
        "id": "qPsRTtLWHrXj"
      },
      "source": [
        "y_pred_prob=model.predict(ss.transform(X_test))[:,0]"
      ],
      "execution_count": 15,
      "outputs": []
    },
    {
      "cell_type": "code",
      "metadata": {
        "colab": {
          "base_uri": "https://localhost:8080/"
        },
        "id": "lCLHvYtzKKd7",
        "outputId": "f4bdfee8-f1b1-46f3-fc09-0e98973f0936"
      },
      "source": [
        "log_loss( y_test, y_pred_prob)"
      ],
      "execution_count": 16,
      "outputs": [
        {
          "output_type": "execute_result",
          "data": {
            "text/plain": [
              "0.1667498894721942"
            ]
          },
          "metadata": {
            "tags": []
          },
          "execution_count": 16
        }
      ]
    },
    {
      "cell_type": "code",
      "metadata": {
        "colab": {
          "base_uri": "https://localhost:8080/"
        },
        "id": "Htcu4PWJMroV",
        "outputId": "8dbead17-332d-4430-8993-2e2dc204cc6c"
      },
      "source": [
        "accuracy_score(y_test, np.rint(y_pred_prob))"
      ],
      "execution_count": 17,
      "outputs": [
        {
          "output_type": "execute_result",
          "data": {
            "text/plain": [
              "0.919737440696692"
            ]
          },
          "metadata": {
            "tags": []
          },
          "execution_count": 17
        }
      ]
    },
    {
      "cell_type": "code",
      "metadata": {
        "colab": {
          "base_uri": "https://localhost:8080/"
        },
        "id": "P36ECl3ZF0gT",
        "outputId": "1f2728ae-cd63-4a34-9883-8dc4e46c6179"
      },
      "source": [
        "roc_auc_score( y_test, y_pred_prob)"
      ],
      "execution_count": 18,
      "outputs": [
        {
          "output_type": "execute_result",
          "data": {
            "text/plain": [
              "0.9829848137952654"
            ]
          },
          "metadata": {
            "tags": []
          },
          "execution_count": 18
        }
      ]
    },
    {
      "cell_type": "code",
      "metadata": {
        "id": "sgaDebu2NlXx"
      },
      "source": [
        "with open('/content/drive/MyDrive/Projects/Melee predicter/prob_check1.pkl', \"rb\") as fh:\n",
        "  prob_check = pickle.load(fh)"
      ],
      "execution_count": 19,
      "outputs": []
    },
    {
      "cell_type": "code",
      "metadata": {
        "id": "xyR82RfOQO8q"
      },
      "source": [
        "p = model.predict(ss.transform(prob_check[features]))[:,0]"
      ],
      "execution_count": 20,
      "outputs": []
    },
    {
      "cell_type": "code",
      "metadata": {
        "colab": {
          "base_uri": "https://localhost:8080/",
          "height": 282
        },
        "id": "4sTbgDRPQXkm",
        "outputId": "b32c7bb3-63ed-4d19-dbd3-0f9bf2235c69"
      },
      "source": [
        "plt.plot(prob_check['frames_elapsed']/60, p)"
      ],
      "execution_count": 21,
      "outputs": [
        {
          "output_type": "execute_result",
          "data": {
            "text/plain": [
              "[<matplotlib.lines.Line2D at 0x7fb268132190>]"
            ]
          },
          "metadata": {
            "tags": []
          },
          "execution_count": 21
        },
        {
          "output_type": "display_data",
          "data": {
            "image/png": "[encoded data removed]",
            "text/plain": [
              "<Figure size 432x288 with 1 Axes>"
            ]
          },
          "metadata": {
            "tags": [],
            "needs_background": "light"
          }
        }
      ]
    },
    {
      "cell_type": "markdown",
      "metadata": {
        "id": "jFFDtnmUygH9"
      },
      "source": [
        "The model performs well, even better than the tree based methods I've mostly used thus far. The issue is that it achieves this better performance by being swingier and going to 0/1 much faster than the other models, as evidenced by the probability graph shown above. "
      ]
    },
    {
      "cell_type": "code",
      "metadata": {
        "id": "tfJONMyXQYiW"
      },
      "source": [
        ""
      ],
      "execution_count": null,
      "outputs": []
    }
  ]
}