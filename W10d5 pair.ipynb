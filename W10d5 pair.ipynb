{
 "cells": [
  {
   "cell_type": "code",
   "execution_count": 8,
   "id": "chubby-supplier",
   "metadata": {},
   "outputs": [],
   "source": [
    "import numpy as np\n",
    "def mySort(inputlist):\n",
    "    sortedlist=[]\n",
    "    \n",
    "    \n",
    "    initial_len = len(inputlist)\n",
    "    for _ in range(initial_len):\n",
    "        min_  = np.inf\n",
    "        min_ind = 0\n",
    "        for i in range(len(inputlist)):\n",
    "            if inputlist[i] < min_:\n",
    "                min_ = inputlist[i]\n",
    "        sortedlist.append(min_)\n",
    "        inputlist.remove(min_)\n",
    "    return sortedlist    "
   ]
  },
  {
   "cell_type": "code",
   "execution_count": 53,
   "id": "favorite-lawrence",
   "metadata": {},
   "outputs": [],
   "source": [
    "test=[3, 4, 1, 2, 5,6,7,8,9,10]\n",
    "\n",
    "s = mySort(test)"
   ]
  },
  {
   "cell_type": "code",
   "execution_count": 27,
   "id": "hispanic-indian",
   "metadata": {},
   "outputs": [],
   "source": [
    "def find(sortedlist,number):\n",
    "    mid = len(sortedlist)//2\n",
    "    lower = 0\n",
    "    upper = len(sortedlist)\n",
    "    count = 0\n",
    "    while(count < len(sortedlist)):\n",
    "        count+=1\n",
    "        print()\n",
    "        print('mid:',mid)\n",
    "        print('lower:',lower)\n",
    "        print('upper:',upper)\n",
    "        if number == sortedlist[mid]:\n",
    "            return mid\n",
    "        elif number < sortedlist[mid]:\n",
    "            print('Num less than mid')\n",
    "            upper = mid\n",
    "            mid = (mid + lower)//2\n",
    "        else:\n",
    "            print('Num Greater than mid')\n",
    "            lower=mid\n",
    "            mid = (mid + upper)//2 \n",
    "        \n",
    "    return -1"
   ]
  },
  {
   "cell_type": "code",
   "execution_count": 32,
   "id": "voluntary-frost",
   "metadata": {},
   "outputs": [
    {
     "name": "stdout",
     "output_type": "stream",
     "text": [
      "\n",
      "mid: 2\n",
      "lower: 0\n",
      "upper: 5\n",
      "Num Greater than mid\n",
      "\n",
      "mid: 3\n",
      "lower: 2\n",
      "upper: 5\n",
      "Num Greater than mid\n",
      "\n",
      "mid: 4\n",
      "lower: 3\n",
      "upper: 5\n"
     ]
    },
    {
     "data": {
      "text/plain": [
       "4"
      ]
     },
     "execution_count": 32,
     "metadata": {},
     "output_type": "execute_result"
    }
   ],
   "source": [
    "find(s, 5)"
   ]
  },
  {
   "cell_type": "code",
   "execution_count": 35,
   "id": "mounted-official",
   "metadata": {},
   "outputs": [
    {
     "data": {
      "text/plain": [
       "[1, 2, 3, 4, 5, 6, 7, 8, 9, 10]"
      ]
     },
     "execution_count": 35,
     "metadata": {},
     "output_type": "execute_result"
    }
   ],
   "source": [
    "s"
   ]
  },
  {
   "cell_type": "code",
   "execution_count": 52,
   "id": "individual-startup",
   "metadata": {},
   "outputs": [],
   "source": [
    "def insert(sortedlist,number):\n",
    "    if number < sortedlist[0]:\n",
    "        sortedlist.insert(0,number)\n",
    "        return\n",
    "    if number > sortedlist[-1]:\n",
    "        sortedlist.append(number)\n",
    "        return\n",
    "    for i in range(len(sortedlist)-1):\n",
    "        if sortedlist[i-1] <= number and number < sortedlist[i]:\n",
    "            sortedlist.insert(i,number)\n",
    "            break"
   ]
  },
  {
   "cell_type": "code",
   "execution_count": 55,
   "id": "municipal-instruction",
   "metadata": {},
   "outputs": [
    {
     "data": {
      "text/plain": [
       "[0, 1, 2, 3, 4, 5, 6, 7, 8, 9, 10, 11]"
      ]
     },
     "execution_count": 55,
     "metadata": {},
     "output_type": "execute_result"
    }
   ],
   "source": [
    "insert(s,11)\n",
    "s"
   ]
  },
  {
   "cell_type": "code",
   "execution_count": 56,
   "id": "proved-testing",
   "metadata": {},
   "outputs": [],
   "source": [
    "def remove(sortedlist,number):\n",
    "    for i in range(len(sortedlist)):\n",
    "        if sortedlist[i] == number:\n",
    "            sortedlist.pop(i)\n",
    "            break"
   ]
  },
  {
   "cell_type": "code",
   "execution_count": 57,
   "id": "heard-steering",
   "metadata": {},
   "outputs": [],
   "source": [
    "remove(s,5)"
   ]
  },
  {
   "cell_type": "code",
   "execution_count": 58,
   "id": "african-appendix",
   "metadata": {},
   "outputs": [
    {
     "data": {
      "text/plain": [
       "[0, 1, 2, 3, 4, 6, 7, 8, 9, 10, 11]"
      ]
     },
     "execution_count": 58,
     "metadata": {},
     "output_type": "execute_result"
    }
   ],
   "source": [
    "s"
   ]
  },
  {
   "cell_type": "code",
   "execution_count": null,
   "id": "divine-communications",
   "metadata": {},
   "outputs": [],
   "source": []
  }
 ],
 "metadata": {
  "kernelspec": {
   "display_name": "Python [conda env:metis] *",
   "language": "python",
   "name": "conda-env-metis-py"
  },
  "language_info": {
   "codemirror_mode": {
    "name": "ipython",
    "version": 3
   },
   "file_extension": ".py",
   "mimetype": "text/x-python",
   "name": "python",
   "nbconvert_exporter": "python",
   "pygments_lexer": "ipython3",
   "version": "3.8.6"
  },
  "toc": {
   "base_numbering": 1,
   "nav_menu": {},
   "number_sections": true,
   "sideBar": true,
   "skip_h1_title": false,
   "title_cell": "Table of Contents",
   "title_sidebar": "Contents",
   "toc_cell": false,
   "toc_position": {},
   "toc_section_display": true,
   "toc_window_display": false
  },
  "varInspector": {
   "cols": {
    "lenName": 16,
    "lenType": 16,
    "lenVar": 40
   },
   "kernels_config": {
    "python": {
     "delete_cmd_postfix": "",
     "delete_cmd_prefix": "del ",
     "library": "var_list.py",
     "varRefreshCmd": "print(var_dic_list())"
    },
    "r": {
     "delete_cmd_postfix": ") ",
     "delete_cmd_prefix": "rm(",
     "library": "var_list.r",
     "varRefreshCmd": "cat(var_dic_list()) "
    }
   },
   "types_to_exclude": [
    "module",
    "function",
    "builtin_function_or_method",
    "instance",
    "_Feature"
   ],
   "window_display": false
  }
 },
 "nbformat": 4,
 "nbformat_minor": 5
}
