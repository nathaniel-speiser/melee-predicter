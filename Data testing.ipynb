{
 "cells": [
  {
   "cell_type": "code",
   "execution_count": 5,
   "id": "buried-amendment",
   "metadata": {},
   "outputs": [],
   "source": [
    "import slippi\n",
    "from slippi import Game\n",
    "import pickle\n",
    "import pandas as pd\n",
    "import glob\n",
    "import numpy as np\n",
    "from tqdm import tqdm \n",
    "from sklearn.preprocessing import OneHotEncoder\n",
    "from sklearn.compose import ColumnTransformer\n",
    "\n",
    "pd.set_option('display.max_columns', None)"
   ]
  },
  {
   "cell_type": "code",
   "execution_count": 2,
   "id": "daily-grace",
   "metadata": {},
   "outputs": [],
   "source": [
    "path = 'replays/Fight-Pitt-9/'\n",
    "fp9_files = glob.glob(path + '/**/*.slp', recursive=True)\n",
    "\n",
    "path = 'replays/Gang-Steals/'\n",
    "gs_files = glob.glob(path + '/**/*.slp', recursive=True)"
   ]
  },
  {
   "cell_type": "code",
   "execution_count": 3,
   "id": "hungarian-warren",
   "metadata": {},
   "outputs": [
    {
     "data": {
      "text/plain": [
       "1150"
      ]
     },
     "execution_count": 3,
     "metadata": {},
     "output_type": "execute_result"
    }
   ],
   "source": [
    "len(fp9_files)"
   ]
  },
  {
   "cell_type": "code",
   "execution_count": 4,
   "id": "experienced-gender",
   "metadata": {},
   "outputs": [
    {
     "data": {
      "text/plain": [
       "3561"
      ]
     },
     "execution_count": 4,
     "metadata": {},
     "output_type": "execute_result"
    }
   ],
   "source": [
    "len(gs_files)"
   ]
  },
  {
   "cell_type": "code",
   "execution_count": 9,
   "id": "laughing-globe",
   "metadata": {
    "scrolled": true
   },
   "outputs": [
    {
     "data": {
      "text/plain": [
       "Game(\n",
       "    end=End(\n",
       "        lras_initiator=None,\n",
       "        method=3:CONCLUSIVE),\n",
       "    frames=[...](8175),\n",
       "    metadata=Metadata(\n",
       "        console_name=Station 33,\n",
       "        date=2019-03-09 00:19:43+00:00,\n",
       "        duration=8175,\n",
       "        platform='nintendont':NINTENDONT,\n",
       "        players=(None, None, None, None)),\n",
       "    start=Start(\n",
       "        is_frozen_ps=None,\n",
       "        is_pal=False,\n",
       "        is_teams=False,\n",
       "        players=(\n",
       "            Player(\n",
       "                character=2:FOX,\n",
       "                costume=0,\n",
       "                stocks=4,\n",
       "                tag=,\n",
       "                team=None,\n",
       "                type=0:HUMAN,\n",
       "                ucf=UCF(\n",
       "                    dash_back=1:UCF,\n",
       "                    shield_drop=1:UCF)),\n",
       "            None,\n",
       "            None,\n",
       "            Player(\n",
       "                character=9:MARTH,\n",
       "                costume=1,\n",
       "                stocks=4,\n",
       "                tag=。,\n",
       "                team=None,\n",
       "                type=0:HUMAN,\n",
       "                ucf=UCF(\n",
       "                    dash_back=1:UCF,\n",
       "                    shield_drop=1:UCF))),\n",
       "        random_seed=3670239257,\n",
       "        slippi=Slippi(\n",
       "            version=1.7.1),\n",
       "        stage=3:POKEMON_STADIUM))"
      ]
     },
     "execution_count": 9,
     "metadata": {},
     "output_type": "execute_result"
    }
   ],
   "source": [
    "Game(fp9_files[0])"
   ]
  },
  {
   "cell_type": "code",
   "execution_count": 5,
   "id": "closing-verse",
   "metadata": {
    "scrolled": true
   },
   "outputs": [
    {
     "data": {
      "text/plain": [
       "Frame(\n",
       "    end=None,\n",
       "    index=9578,\n",
       "    items=(),\n",
       "    ports=(\n",
       "        Port(\n",
       "            follower=None,\n",
       "            leader=Data(\n",
       "                post=Post(\n",
       "                    airborne=None,\n",
       "                    character=1:FOX,\n",
       "                    combo_count=1,\n",
       "                    damage=126.97,\n",
       "                    direction=-1:LEFT,\n",
       "                    flags=None,\n",
       "                    ground=None,\n",
       "                    hit_stun=None,\n",
       "                    jumps=None,\n",
       "                    l_cancel=None,\n",
       "                    last_attack_landed=21:DOWN_SPECIAL,\n",
       "                    last_hit_by=None,\n",
       "                    position=(70.32, -14.40),\n",
       "                    shield=60.00,\n",
       "                    state=253:CLIFF_WAIT,\n",
       "                    state_age=23.00,\n",
       "                    stocks=1),\n",
       "                pre=Pre(\n",
       "                    buttons=Buttons(\n",
       "                        logical=0b0:NONE,\n",
       "                        physical=0b0:NONE),\n",
       "                    cstick=(0.00, 0.00),\n",
       "                    damage=(126.97),\n",
       "                    direction=-1:LEFT,\n",
       "                    joystick=(0.00, 0.00),\n",
       "                    position=(70.32, -14.40),\n",
       "                    random_seed=2826274633,\n",
       "                    raw_analog_x=(1),\n",
       "                    state=253:CLIFF_WAIT,\n",
       "                    triggers=Triggers(\n",
       "                        logical=0.00,\n",
       "                        physical=Physical(\n",
       "                            l=0.00,\n",
       "                            r=0.02))))),\n",
       "        None,\n",
       "        None,\n",
       "        Port(\n",
       "            follower=None,\n",
       "            leader=Data(\n",
       "                post=Post(\n",
       "                    airborne=None,\n",
       "                    character=18:MARTH,\n",
       "                    combo_count=1,\n",
       "                    damage=95.00,\n",
       "                    direction=-1:LEFT,\n",
       "                    flags=None,\n",
       "                    ground=None,\n",
       "                    hit_stun=None,\n",
       "                    jumps=None,\n",
       "                    l_cancel=None,\n",
       "                    last_attack_landed=20:UP_SPECIAL,\n",
       "                    last_hit_by=0,\n",
       "                    position=(74.24, -110.11),\n",
       "                    shield=60.00,\n",
       "                    state=0:DEAD_DOWN,\n",
       "                    state_age=-1.00,\n",
       "                    stocks=0),\n",
       "                pre=Pre(\n",
       "                    buttons=Buttons(\n",
       "                        logical=0b0:NONE,\n",
       "                        physical=0b0:NONE),\n",
       "                    cstick=(0.00, 0.00),\n",
       "                    damage=(95.00),\n",
       "                    direction=-1:LEFT,\n",
       "                    joystick=(0.00, 0.00),\n",
       "                    position=(74.27, -107.61),\n",
       "                    random_seed=2826274633,\n",
       "                    raw_analog_x=(0),\n",
       "                    state=35:FALL_SPECIAL,\n",
       "                    triggers=Triggers(\n",
       "                        logical=0.00,\n",
       "                        physical=Physical(\n",
       "                            l=0.00,\n",
       "                            r=0.00)))))),\n",
       "    start=None)"
      ]
     },
     "execution_count": 5,
     "metadata": {},
     "output_type": "execute_result"
    }
   ],
   "source": [
    "Game(fp9_files[1]).frames[-1]"
   ]
  },
  {
   "cell_type": "code",
   "execution_count": 12,
   "id": "prospective-collaboration",
   "metadata": {},
   "outputs": [],
   "source": [
    "def get_ports(game):\n",
    "    player_tup = game.start.players\n",
    "    ports = tuple([i for i in range(4) if player_tup[i] is not None])\n",
    "    return ports\n",
    "\n",
    "def get_characters(game, port1, port2):\n",
    "    player_tup = game.start.players\n",
    "    chars = (player_tup[port1].character.name,player_tup[port2].character.name )\n",
    "    return chars\n",
    "    \n",
    "def get_stage(game):\n",
    "    return game.start.stage.name\n",
    "    \n",
    "def get_winner(game, port1, port2):\n",
    "    \"\"\"\n",
    "    Returns if player with lower port is winner\n",
    "    \"\"\"\n",
    "    lras = game.end.lras_initiator\n",
    "    if lras is not None:\n",
    "        if lras == port1:\n",
    "            return 0\n",
    "        else:\n",
    "            return 1\n",
    "    \n",
    "    p1_stocks = game.frames[-1].ports[port1].leader.post.stocks\n",
    "    p2_stocks = game.frames[-1].ports[port2].leader.post.stocks\n",
    "    \n",
    "    if p1_stocks == p2_stocks:\n",
    "        p1_damage = game.frames[-1].ports[port1].leader.post.damage\n",
    "        p2_damage = game.frames[-1].ports[port2].leader.post.damage\n",
    "        return p1_damage > p2_damage\n",
    "    return int(p1_stocks > p2_stocks)\n",
    "\n",
    "\n",
    "def is_valid_game(game):\n",
    "    if game.metadata.duration < 15*60:\n",
    "        return False\n",
    "    if game.end.method.value != 3 and game.end.method.value != 1:\n",
    "        return False\n",
    "    if game.start.is_teams is True:\n",
    "        return False\n",
    "    if game.start.stage.value not in [2,3,8,28,31,32]:\n",
    "        return False\n",
    "    if len(get_ports(game))!=2:\n",
    "        return False\n",
    "    return True  \n",
    "        "
   ]
  },
  {
   "cell_type": "code",
   "execution_count": 13,
   "id": "small-ethernet",
   "metadata": {},
   "outputs": [],
   "source": [
    "def make_rows(game, num_seconds, game_id):\n",
    "    \"\"\"\n",
    "    Make a df for each game. Rows are timeslices, every num_seconds of the game, as well as the first and last frames\n",
    "    \n",
    "    \"\"\"\n",
    "    \n",
    "    port1, port2 = get_ports(game)\n",
    "    p1_char, p2_char = get_characters(game, port1, port2)\n",
    "    stage = get_stage(game)\n",
    "    winner = get_winner(game, port1, port2)\n",
    "    duration = game.metadata.duration\n",
    "\n",
    "    times = np.array(list(range(0,duration, num_seconds*60)) + [duration-1])\n",
    "    num_times = len(times)\n",
    "    p1_stocks, p2_stocks = np.zeros(num_times),np.zeros(num_times)\n",
    "    p1_damage, p2_damage = np.zeros(num_times),np.zeros(num_times)\n",
    "    \n",
    "    for i, frame_num in enumerate(times):\n",
    "        p1_stocks[i] = game.frames[frame_num].ports[port1].leader.post.stocks\n",
    "        p2_stocks[i] = game.frames[frame_num].ports[port2].leader.post.stocks\n",
    "        p1_damage[i] = game.frames[frame_num].ports[port1].leader.post.damage\n",
    "        p2_damage[i] = game.frames[frame_num].ports[port2].leader.post.damage\n",
    "    \n",
    "    game_id_list = [game_id]*num_times\n",
    "    p1_char_list = [p1_char]*num_times\n",
    "    p2_char_list = [p2_char]*num_times\n",
    "    stage_list = [stage]*num_times\n",
    "    winner_list = [winner] * num_times\n",
    "    return pd.DataFrame(data = {\n",
    "            'id'     : game_id_list,\n",
    "            'p1_char': p1_char_list,\n",
    "            'p2_char': p2_char_list,\n",
    "            'stage' : stage_list,\n",
    "            'frames_elapsed'   : times,\n",
    "            'p1_stocks': p1_stocks,\n",
    "            'p2_stocks': p2_stocks,\n",
    "            'p1_damage': p1_damage,\n",
    "            'p2_damage': p2_damage,\n",
    "            'winner' : winner_list\n",
    "        })"
   ]
  },
  {
   "cell_type": "code",
   "execution_count": 14,
   "id": "bearing-sierra",
   "metadata": {},
   "outputs": [],
   "source": [
    "def construct_df(file_list, num_seconds):\n",
    "    df_list = []\n",
    "    for slp_file in tqdm(file_list,desc='Games parsed'):\n",
    "        try:\n",
    "            game = Game(slp_file)\n",
    "            if is_valid_game(game):\n",
    "                game_id = slp_file.split('/')[-1][:-4]\n",
    "                rows = make_rows(game, num_seconds,game_id)\n",
    "                df_list.append(rows)\n",
    "        except:\n",
    "            continue\n",
    "    return pd.concat(df_list).reset_index(drop=True)\n",
    "\n",
    "def ohe_chars_stage(df):\n",
    "    characters = ['FOX', 'FALCO', 'MARTH', 'SHEIK','JIGGLYPUFF', 'PEACH', 'ICE_CLIMBERS','CAPTAIN_FALCON',\n",
    "                 'PIKACHU','SAMUS','DR_MARIO','YOSHI','LUIGI','GANONDORF','MARIO','YOUNG_LINK','DONKEY_KONG',\n",
    "                 'LINK','GAME_AND_WATCH','ROY','MEWTWO','ZELDA','NESS','PICHU','BOWSER','KIRBY']\n",
    "\n",
    "    stages = ['BATTLEFIELD', 'FINAL_DESTINATION',\n",
    "               'DREAM_LAND_N64', 'YOSHIS_STORY', 'FOUNTAIN_OF_DREAMS','POKEMON_STADIUM']\n",
    "    ohe = OneHotEncoder(categories=[characters,characters,stages], sparse=False)\n",
    "    ohe_cols = ohe.fit_transform(df[['p1_char','p2_char','stage']])\n",
    "    ohe_df = pd.DataFrame(ohe_cols, columns = ohe.get_feature_names(['p1','p2','stage']))\n",
    "    return  pd.concat([df,ohe_df],axis=1)\n",
    "\n",
    "    \n",
    "\n"
   ]
  },
  {
   "cell_type": "code",
   "execution_count": 119,
   "id": "happy-inquiry",
   "metadata": {
    "scrolled": true
   },
   "outputs": [],
   "source": [
    "fp9_5s = construct_df(fp9_files,5)"
   ]
  },
  {
   "cell_type": "code",
   "execution_count": 21,
   "id": "southern-butter",
   "metadata": {},
   "outputs": [
    {
     "name": "stderr",
     "output_type": "stream",
     "text": [
      "Games parsed: 100%|██████████| 3561/3561 [29:58<00:00,  1.98it/s]\n"
     ]
    },
    {
     "name": "stdout",
     "output_type": "stream",
     "text": [
      "CPU times: user 29min 8s, sys: 46 s, total: 29min 54s\n",
      "Wall time: 29min 59s\n"
     ]
    }
   ],
   "source": [
    "%%time\n",
    "gs_5s = construct_df(gs_files, 5)"
   ]
  },
  {
   "cell_type": "code",
   "execution_count": 158,
   "id": "distinguished-exhaust",
   "metadata": {},
   "outputs": [],
   "source": [
    "fp9_5s_ohe = ohe_chars_stage(fp9_5s)"
   ]
  },
  {
   "cell_type": "code",
   "execution_count": 162,
   "id": "finnish-gender",
   "metadata": {},
   "outputs": [],
   "source": [
    "fp9_5s_ohe.to_pickle('saved_data/fp9_5s_ohe.pkl')"
   ]
  },
  {
   "cell_type": "code",
   "execution_count": 22,
   "id": "promising-hello",
   "metadata": {},
   "outputs": [],
   "source": [
    "gs_5s_ohe = ohe_chars_stage(gs_5s)"
   ]
  },
  {
   "cell_type": "code",
   "execution_count": 25,
   "id": "standing-sheet",
   "metadata": {
    "scrolled": true
   },
   "outputs": [
    {
     "name": "stdout",
     "output_type": "stream",
     "text": [
      "<class 'pandas.core.frame.DataFrame'>\n",
      "RangeIndex: 103085 entries, 0 to 103084\n",
      "Data columns (total 68 columns):\n",
      " #   Column                    Non-Null Count   Dtype  \n",
      "---  ------                    --------------   -----  \n",
      " 0   id                        103085 non-null  object \n",
      " 1   p1_char                   103085 non-null  object \n",
      " 2   p2_char                   103085 non-null  object \n",
      " 3   stage                     103085 non-null  object \n",
      " 4   frames_elapsed            103085 non-null  int64  \n",
      " 5   p1_stocks                 103085 non-null  float64\n",
      " 6   p2_stocks                 103085 non-null  float64\n",
      " 7   p1_damage                 103085 non-null  float64\n",
      " 8   p2_damage                 103085 non-null  float64\n",
      " 9   winner                    103085 non-null  int64  \n",
      " 10  p1_FOX                    103085 non-null  float64\n",
      " 11  p1_FALCO                  103085 non-null  float64\n",
      " 12  p1_MARTH                  103085 non-null  float64\n",
      " 13  p1_SHEIK                  103085 non-null  float64\n",
      " 14  p1_JIGGLYPUFF             103085 non-null  float64\n",
      " 15  p1_PEACH                  103085 non-null  float64\n",
      " 16  p1_ICE_CLIMBERS           103085 non-null  float64\n",
      " 17  p1_CAPTAIN_FALCON         103085 non-null  float64\n",
      " 18  p1_PIKACHU                103085 non-null  float64\n",
      " 19  p1_SAMUS                  103085 non-null  float64\n",
      " 20  p1_DR_MARIO               103085 non-null  float64\n",
      " 21  p1_YOSHI                  103085 non-null  float64\n",
      " 22  p1_LUIGI                  103085 non-null  float64\n",
      " 23  p1_GANONDORF              103085 non-null  float64\n",
      " 24  p1_MARIO                  103085 non-null  float64\n",
      " 25  p1_YOUNG_LINK             103085 non-null  float64\n",
      " 26  p1_DONKEY_KONG            103085 non-null  float64\n",
      " 27  p1_LINK                   103085 non-null  float64\n",
      " 28  p1_GAME_AND_WATCH         103085 non-null  float64\n",
      " 29  p1_ROY                    103085 non-null  float64\n",
      " 30  p1_MEWTWO                 103085 non-null  float64\n",
      " 31  p1_ZELDA                  103085 non-null  float64\n",
      " 32  p1_NESS                   103085 non-null  float64\n",
      " 33  p1_PICHU                  103085 non-null  float64\n",
      " 34  p1_BOWSER                 103085 non-null  float64\n",
      " 35  p1_KIRBY                  103085 non-null  float64\n",
      " 36  p2_FOX                    103085 non-null  float64\n",
      " 37  p2_FALCO                  103085 non-null  float64\n",
      " 38  p2_MARTH                  103085 non-null  float64\n",
      " 39  p2_SHEIK                  103085 non-null  float64\n",
      " 40  p2_JIGGLYPUFF             103085 non-null  float64\n",
      " 41  p2_PEACH                  103085 non-null  float64\n",
      " 42  p2_ICE_CLIMBERS           103085 non-null  float64\n",
      " 43  p2_CAPTAIN_FALCON         103085 non-null  float64\n",
      " 44  p2_PIKACHU                103085 non-null  float64\n",
      " 45  p2_SAMUS                  103085 non-null  float64\n",
      " 46  p2_DR_MARIO               103085 non-null  float64\n",
      " 47  p2_YOSHI                  103085 non-null  float64\n",
      " 48  p2_LUIGI                  103085 non-null  float64\n",
      " 49  p2_GANONDORF              103085 non-null  float64\n",
      " 50  p2_MARIO                  103085 non-null  float64\n",
      " 51  p2_YOUNG_LINK             103085 non-null  float64\n",
      " 52  p2_DONKEY_KONG            103085 non-null  float64\n",
      " 53  p2_LINK                   103085 non-null  float64\n",
      " 54  p2_GAME_AND_WATCH         103085 non-null  float64\n",
      " 55  p2_ROY                    103085 non-null  float64\n",
      " 56  p2_MEWTWO                 103085 non-null  float64\n",
      " 57  p2_ZELDA                  103085 non-null  float64\n",
      " 58  p2_NESS                   103085 non-null  float64\n",
      " 59  p2_PICHU                  103085 non-null  float64\n",
      " 60  p2_BOWSER                 103085 non-null  float64\n",
      " 61  p2_KIRBY                  103085 non-null  float64\n",
      " 62  stage_BATTLEFIELD         103085 non-null  float64\n",
      " 63  stage_FINAL_DESTINATION   103085 non-null  float64\n",
      " 64  stage_DREAM_LAND_N64      103085 non-null  float64\n",
      " 65  stage_YOSHIS_STORY        103085 non-null  float64\n",
      " 66  stage_FOUNTAIN_OF_DREAMS  103085 non-null  float64\n",
      " 67  stage_POKEMON_STADIUM     103085 non-null  float64\n",
      "dtypes: float64(62), int64(2), object(4)\n",
      "memory usage: 53.5+ MB\n"
     ]
    }
   ],
   "source": [
    "gs_5s_ohe.info()"
   ]
  },
  {
   "cell_type": "code",
   "execution_count": 24,
   "id": "radical-nitrogen",
   "metadata": {},
   "outputs": [],
   "source": [
    "gs_5s_ohe.to_pickle('saved_data/gs_5s_ohe.pkl')"
   ]
  },
  {
   "cell_type": "code",
   "execution_count": null,
   "id": "honey-separation",
   "metadata": {},
   "outputs": [],
   "source": []
  }
 ],
 "metadata": {
  "kernelspec": {
   "display_name": "Python [conda env:metis] *",
   "language": "python",
   "name": "conda-env-metis-py"
  },
  "language_info": {
   "codemirror_mode": {
    "name": "ipython",
    "version": 3
   },
   "file_extension": ".py",
   "mimetype": "text/x-python",
   "name": "python",
   "nbconvert_exporter": "python",
   "pygments_lexer": "ipython3",
   "version": "3.8.6"
  },
  "toc": {
   "base_numbering": 1,
   "nav_menu": {},
   "number_sections": true,
   "sideBar": true,
   "skip_h1_title": false,
   "title_cell": "Table of Contents",
   "title_sidebar": "Contents",
   "toc_cell": false,
   "toc_position": {},
   "toc_section_display": true,
   "toc_window_display": false
  },
  "varInspector": {
   "cols": {
    "lenName": 16,
    "lenType": 16,
    "lenVar": 40
   },
   "kernels_config": {
    "python": {
     "delete_cmd_postfix": "",
     "delete_cmd_prefix": "del ",
     "library": "var_list.py",
     "varRefreshCmd": "print(var_dic_list())"
    },
    "r": {
     "delete_cmd_postfix": ") ",
     "delete_cmd_prefix": "rm(",
     "library": "var_list.r",
     "varRefreshCmd": "cat(var_dic_list()) "
    }
   },
   "types_to_exclude": [
    "module",
    "function",
    "builtin_function_or_method",
    "instance",
    "_Feature"
   ],
   "window_display": false
  }
 },
 "nbformat": 4,
 "nbformat_minor": 5
}
